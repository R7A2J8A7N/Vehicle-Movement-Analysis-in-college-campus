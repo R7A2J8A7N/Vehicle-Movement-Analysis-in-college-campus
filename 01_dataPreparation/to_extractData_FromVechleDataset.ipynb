{
 "cells": [
  {
   "cell_type": "code",
   "execution_count": 1,
   "id": "4aebd75d-30b3-41c7-ae55-9b7577a1f7d1",
   "metadata": {},
   "outputs": [],
   "source": [
    "import os\n",
    "from glob import glob # extract path of each file\n",
    "import pandas as pd # data preprocessing\n",
    "\n",
    "from xml.etree import ElementTree as et # parse information from XML\n",
    "from functools import reduce"
   ]
  },
  {
   "cell_type": "code",
   "execution_count": 2,
   "id": "bd617051-5b15-4b22-a1a5-ee20c5a23821",
   "metadata": {},
   "outputs": [],
   "source": [
    "import warnings\n",
    "warnings.filterwarnings('ignore')"
   ]
  },
  {
   "cell_type": "code",
   "execution_count": 3,
   "id": "5a6e6e33-58c8-47b0-9789-f8fbb43bdf99",
   "metadata": {},
   "outputs": [],
   "source": [
    "#  get path of each xml file for ambulance data set labelled by labelIg\n",
    "xmlfiles = glob('./vechles_dataset./ambulance/*.xml')\n",
    "# replace \\\\ with /\n",
    "replace_text = lambda x: x.replace('\\\\','/')\n",
    "xmlfiles = list(map(replace_text,xmlfiles))"
   ]
  },
  {
   "cell_type": "code",
   "execution_count": 4,
   "id": "c557430b-f02f-4d57-987d-c4e8b1862670",
   "metadata": {},
   "outputs": [
    {
     "data": {
      "text/plain": [
       "['./vechles_dataset./ambulance/002397_02.xml',\n",
       " './vechles_dataset./ambulance/002431_05.xml',\n",
       " './vechles_dataset./ambulance/002494_04.xml',\n",
       " './vechles_dataset./ambulance/002547_03.xml',\n",
       " './vechles_dataset./ambulance/002590_18.xml',\n",
       " './vechles_dataset./ambulance/002624_17.xml',\n",
       " './vechles_dataset./ambulance/002686_02.xml',\n",
       " './vechles_dataset./ambulance/002717_00.xml',\n",
       " './vechles_dataset./ambulance/002964_18.xml',\n",
       " './vechles_dataset./ambulance/003025_04.xml',\n",
       " './vechles_dataset./ambulance/003186_05.xml',\n",
       " './vechles_dataset./ambulance/003320_04.xml',\n",
       " './vechles_dataset./ambulance/003507_17.xml',\n",
       " './vechles_dataset./ambulance/003531_17.xml',\n",
       " './vechles_dataset./ambulance/003574_02.xml',\n",
       " './vechles_dataset./ambulance/003698_02.xml',\n",
       " './vechles_dataset./ambulance/003713_09.xml',\n",
       " './vechles_dataset./ambulance/003785_01.xml',\n",
       " './vechles_dataset./ambulance/003903_18.xml',\n",
       " './vechles_dataset./ambulance/003927_17.xml',\n",
       " './vechles_dataset./ambulance/004006_01.xml',\n",
       " './vechles_dataset./ambulance/004220_02.xml',\n",
       " './vechles_dataset./ambulance/004249_10.xml',\n",
       " './vechles_dataset./ambulance/004506_17.xml',\n",
       " './vechles_dataset./ambulance/004580_00.xml',\n",
       " './vechles_dataset./ambulance/004735_17.xml',\n",
       " './vechles_dataset./ambulance/004752_05.xml',\n",
       " './vechles_dataset./ambulance/004785_17.xml',\n",
       " './vechles_dataset./ambulance/004990_09.xml',\n",
       " './vechles_dataset./ambulance/005035_17.xml',\n",
       " './vechles_dataset./ambulance/005202_18.xml',\n",
       " './vechles_dataset./ambulance/005273_17.xml',\n",
       " './vechles_dataset./ambulance/005373_01.xml']"
      ]
     },
     "execution_count": 4,
     "metadata": {},
     "output_type": "execute_result"
    }
   ],
   "source": [
    "xmlfiles"
   ]
  },
  {
   "cell_type": "code",
   "execution_count": 5,
   "id": "cd3cd403-554e-4978-b5db-cb35879ac72c",
   "metadata": {},
   "outputs": [],
   "source": [
    "#  read xml files\n",
    "# from each xml file we need to extract\n",
    "# filename, size(width, height), object(name, xmin, xmax, ymin, ymax)\n",
    "def extract_text(filename):\n",
    "    tree = et.parse(filename)\n",
    "    root = tree.getroot()\n",
    "\n",
    "    # extract filename\n",
    "    image_name = root.find('filename').text\n",
    "    # width and height of the image\n",
    "    width = root.find('size').find('width').text\n",
    "    height = root.find('size').find('height').text\n",
    "    obj = root.find('object')\n",
    "    parser = []\n",
    "    \n",
    "    name = obj.find('name').text\n",
    "    bndbox = obj.find('bndbox')\n",
    "    xmin = bndbox.find('xmin').text\n",
    "    xmax = bndbox.find('xmax').text\n",
    "    ymin = bndbox.find('ymin').text\n",
    "    ymax = bndbox.find('ymax').text\n",
    "    parser.append([image_name, width, height, name,xmin,ymin,xmax,ymax])\n",
    "        \n",
    "    return parser"
   ]
  },
  {
   "cell_type": "code",
   "execution_count": 6,
   "id": "f2155ab7-59e5-45d2-b94e-d062ff7b570f",
   "metadata": {},
   "outputs": [
    {
     "data": {
      "text/plain": [
       "[[['002397_02.jpg', '3226', '2534', 'ambulance', '73', '83', '3184', '2375']],\n",
       " [['002431_05.jpg', '1419', '1219', 'ambulance', '19', '42', '1391', '1139']],\n",
       " [['002494_04.jpg', '1782', '1903', 'ambulance', '27', '18', '1755', '1882']],\n",
       " [['002547_03.jpg', '2230', '1336', 'ambulance', '42', '11', '2179', '1314']],\n",
       " [['002590_18.jpg', '2304', '1796', 'ambulance', '38', '90', '2174', '1615']],\n",
       " [['002624_17.jpg', '1383', '1188', 'ambulance', '237', '33', '1350', '1156']],\n",
       " [['002686_02.jpg', '760', '671', 'ambulance', '20', '32', '754', '628']],\n",
       " [['002717_00.jpg', '2806', '2919', 'ambulance', '36', '46', '2779', '2852']],\n",
       " [['002964_18.jpg', '1789', '1042', 'ambulance', '14', '19', '1695', '1042']],\n",
       " [['003025_04.jpg', '929', '982', 'ambulance', '15', '34', '905', '975']],\n",
       " [['003186_05.jpg', '517', '400', 'ambulance', '4', '6', '505', '389']],\n",
       " [['003320_04.jpg', '322', '360', 'ambulance', '10', '8', '307', '353']],\n",
       " [['003507_17.jpg', '2395', '1139', 'ambulance', '69', '12', '2388', '1128']],\n",
       " [['003531_17.jpg', '1649', '1498', 'ambulance', '17', '73', '1641', '1400']],\n",
       " [['003574_02.jpg', '2061', '1873', 'ambulance', '41', '54', '1961', '1860']],\n",
       " [['003698_02.jpg', '2239', '1698', 'ambulance', '134', '41', '2072', '1660']],\n",
       " [['003713_09.jpg', '982', '674', 'ambulance', '13', '38', '978', '659']],\n",
       " [['003785_01.jpg', '3044', '2404', 'ambulance', '87', '181', '2887', '2276']],\n",
       " [['003903_18.jpg', '3039', '2026', 'ambulance', '38', '208', '2983', '1878']],\n",
       " [['003927_17.jpg', '1797', '1610', 'ambulance', '16', '79', '1752', '1591']],\n",
       " [['004006_01.jpg', '1341', '828', 'ambulance', '33', '43', '1238', '810']],\n",
       " [['004220_02.jpg', '2510', '1587', 'ambulance', '27', '44', '2378', '1567']],\n",
       " [['004249_10.jpg', '2945', '1685', 'ambulance', '56', '12', '2889', '1632']],\n",
       " [['004506_17.jpg', '1431', '1403', 'ambulance', '78', '172', '1374', '1328']],\n",
       " [['004580_00.jpg', '2807', '2403', 'ambulance', '9', '177', '2689', '2380']],\n",
       " [['004735_17.jpg', '1781', '775', 'ambulance', '57', '5', '1761', '761']],\n",
       " [['004752_05.jpg', '2936', '1823', 'ambulance', '41', '144', '2878', '1807']],\n",
       " [['004785_17.jpg', '175', '226', 'ambulance', '6', '10', '175', '212']],\n",
       " [['004990_09.jpg', '1132', '1270', 'ambulance', '36', '58', '1091', '1170']],\n",
       " [['005035_17.jpg', '1584', '1370', 'ambulance', '33', '11', '1582', '1342']],\n",
       " [['005202_18.jpg', '2147', '2137', 'ambulance', '109', '40', '1974', '2093']],\n",
       " [['005273_17.jpg', '4323', '2711', 'ambulance', '51', '88', '4227', '2708']],\n",
       " [['005373_01.jpg', '2067', '976', 'ambulance', '6', '3', '2043', '930']]]"
      ]
     },
     "execution_count": 6,
     "metadata": {},
     "output_type": "execute_result"
    }
   ],
   "source": [
    "parser_all = list(map(extract_text,xmlfiles))\n",
    "parser_all"
   ]
  },
  {
   "cell_type": "code",
   "execution_count": 7,
   "id": "b99df1ce-5653-4576-90bd-0f47aad90b35",
   "metadata": {},
   "outputs": [
    {
     "data": {
      "text/plain": [
       "[['002397_02.jpg', '3226', '2534', 'ambulance', '73', '83', '3184', '2375'],\n",
       " ['002431_05.jpg', '1419', '1219', 'ambulance', '19', '42', '1391', '1139'],\n",
       " ['002494_04.jpg', '1782', '1903', 'ambulance', '27', '18', '1755', '1882'],\n",
       " ['002547_03.jpg', '2230', '1336', 'ambulance', '42', '11', '2179', '1314'],\n",
       " ['002590_18.jpg', '2304', '1796', 'ambulance', '38', '90', '2174', '1615'],\n",
       " ['002624_17.jpg', '1383', '1188', 'ambulance', '237', '33', '1350', '1156'],\n",
       " ['002686_02.jpg', '760', '671', 'ambulance', '20', '32', '754', '628'],\n",
       " ['002717_00.jpg', '2806', '2919', 'ambulance', '36', '46', '2779', '2852'],\n",
       " ['002964_18.jpg', '1789', '1042', 'ambulance', '14', '19', '1695', '1042'],\n",
       " ['003025_04.jpg', '929', '982', 'ambulance', '15', '34', '905', '975'],\n",
       " ['003186_05.jpg', '517', '400', 'ambulance', '4', '6', '505', '389'],\n",
       " ['003320_04.jpg', '322', '360', 'ambulance', '10', '8', '307', '353'],\n",
       " ['003507_17.jpg', '2395', '1139', 'ambulance', '69', '12', '2388', '1128'],\n",
       " ['003531_17.jpg', '1649', '1498', 'ambulance', '17', '73', '1641', '1400'],\n",
       " ['003574_02.jpg', '2061', '1873', 'ambulance', '41', '54', '1961', '1860'],\n",
       " ['003698_02.jpg', '2239', '1698', 'ambulance', '134', '41', '2072', '1660'],\n",
       " ['003713_09.jpg', '982', '674', 'ambulance', '13', '38', '978', '659'],\n",
       " ['003785_01.jpg', '3044', '2404', 'ambulance', '87', '181', '2887', '2276'],\n",
       " ['003903_18.jpg', '3039', '2026', 'ambulance', '38', '208', '2983', '1878'],\n",
       " ['003927_17.jpg', '1797', '1610', 'ambulance', '16', '79', '1752', '1591'],\n",
       " ['004006_01.jpg', '1341', '828', 'ambulance', '33', '43', '1238', '810'],\n",
       " ['004220_02.jpg', '2510', '1587', 'ambulance', '27', '44', '2378', '1567'],\n",
       " ['004249_10.jpg', '2945', '1685', 'ambulance', '56', '12', '2889', '1632'],\n",
       " ['004506_17.jpg', '1431', '1403', 'ambulance', '78', '172', '1374', '1328'],\n",
       " ['004580_00.jpg', '2807', '2403', 'ambulance', '9', '177', '2689', '2380'],\n",
       " ['004735_17.jpg', '1781', '775', 'ambulance', '57', '5', '1761', '761'],\n",
       " ['004752_05.jpg', '2936', '1823', 'ambulance', '41', '144', '2878', '1807'],\n",
       " ['004785_17.jpg', '175', '226', 'ambulance', '6', '10', '175', '212'],\n",
       " ['004990_09.jpg', '1132', '1270', 'ambulance', '36', '58', '1091', '1170'],\n",
       " ['005035_17.jpg', '1584', '1370', 'ambulance', '33', '11', '1582', '1342'],\n",
       " ['005202_18.jpg', '2147', '2137', 'ambulance', '109', '40', '1974', '2093'],\n",
       " ['005273_17.jpg', '4323', '2711', 'ambulance', '51', '88', '4227', '2708'],\n",
       " ['005373_01.jpg', '2067', '976', 'ambulance', '6', '3', '2043', '930']]"
      ]
     },
     "execution_count": 7,
     "metadata": {},
     "output_type": "execute_result"
    }
   ],
   "source": [
    "data = reduce(lambda x, y : x+y,parser_all)\n",
    "data"
   ]
  },
  {
   "cell_type": "code",
   "execution_count": 8,
   "id": "be53001a-f733-4220-af34-8697459f4fc2",
   "metadata": {},
   "outputs": [
    {
     "data": {
      "text/html": [
       "<div>\n",
       "<style scoped>\n",
       "    .dataframe tbody tr th:only-of-type {\n",
       "        vertical-align: middle;\n",
       "    }\n",
       "\n",
       "    .dataframe tbody tr th {\n",
       "        vertical-align: top;\n",
       "    }\n",
       "\n",
       "    .dataframe thead th {\n",
       "        text-align: right;\n",
       "    }\n",
       "</style>\n",
       "<table border=\"1\" class=\"dataframe\">\n",
       "  <thead>\n",
       "    <tr style=\"text-align: right;\">\n",
       "      <th></th>\n",
       "      <th>filename</th>\n",
       "      <th>width</th>\n",
       "      <th>height</th>\n",
       "      <th>class</th>\n",
       "      <th>xmin</th>\n",
       "      <th>ymin</th>\n",
       "      <th>xmax</th>\n",
       "      <th>ymax</th>\n",
       "    </tr>\n",
       "  </thead>\n",
       "  <tbody>\n",
       "    <tr>\n",
       "      <th>0</th>\n",
       "      <td>002397_02.jpg</td>\n",
       "      <td>3226</td>\n",
       "      <td>2534</td>\n",
       "      <td>ambulance</td>\n",
       "      <td>73</td>\n",
       "      <td>83</td>\n",
       "      <td>3184</td>\n",
       "      <td>2375</td>\n",
       "    </tr>\n",
       "    <tr>\n",
       "      <th>1</th>\n",
       "      <td>002431_05.jpg</td>\n",
       "      <td>1419</td>\n",
       "      <td>1219</td>\n",
       "      <td>ambulance</td>\n",
       "      <td>19</td>\n",
       "      <td>42</td>\n",
       "      <td>1391</td>\n",
       "      <td>1139</td>\n",
       "    </tr>\n",
       "    <tr>\n",
       "      <th>2</th>\n",
       "      <td>002494_04.jpg</td>\n",
       "      <td>1782</td>\n",
       "      <td>1903</td>\n",
       "      <td>ambulance</td>\n",
       "      <td>27</td>\n",
       "      <td>18</td>\n",
       "      <td>1755</td>\n",
       "      <td>1882</td>\n",
       "    </tr>\n",
       "    <tr>\n",
       "      <th>3</th>\n",
       "      <td>002547_03.jpg</td>\n",
       "      <td>2230</td>\n",
       "      <td>1336</td>\n",
       "      <td>ambulance</td>\n",
       "      <td>42</td>\n",
       "      <td>11</td>\n",
       "      <td>2179</td>\n",
       "      <td>1314</td>\n",
       "    </tr>\n",
       "    <tr>\n",
       "      <th>4</th>\n",
       "      <td>002590_18.jpg</td>\n",
       "      <td>2304</td>\n",
       "      <td>1796</td>\n",
       "      <td>ambulance</td>\n",
       "      <td>38</td>\n",
       "      <td>90</td>\n",
       "      <td>2174</td>\n",
       "      <td>1615</td>\n",
       "    </tr>\n",
       "  </tbody>\n",
       "</table>\n",
       "</div>"
      ],
      "text/plain": [
       "        filename width height      class xmin ymin  xmax  ymax\n",
       "0  002397_02.jpg  3226   2534  ambulance   73   83  3184  2375\n",
       "1  002431_05.jpg  1419   1219  ambulance   19   42  1391  1139\n",
       "2  002494_04.jpg  1782   1903  ambulance   27   18  1755  1882\n",
       "3  002547_03.jpg  2230   1336  ambulance   42   11  2179  1314\n",
       "4  002590_18.jpg  2304   1796  ambulance   38   90  2174  1615"
      ]
     },
     "execution_count": 8,
     "metadata": {},
     "output_type": "execute_result"
    }
   ],
   "source": [
    "df_ambu = pd.DataFrame(data,columns = ['filename','width','height','class','xmin','ymin','xmax','ymax'])\n",
    "df_ambu.head()"
   ]
  },
  {
   "cell_type": "code",
   "execution_count": 9,
   "id": "a4f70586-dc69-4e3b-b1db-ebabfd858772",
   "metadata": {},
   "outputs": [
    {
     "data": {
      "text/plain": [
       "class\n",
       "ambulance    33\n",
       "Name: count, dtype: int64"
      ]
     },
     "execution_count": 9,
     "metadata": {},
     "output_type": "execute_result"
    }
   ],
   "source": [
    "df_ambu['class'].value_counts()"
   ]
  },
  {
   "cell_type": "code",
   "execution_count": 10,
   "id": "d7700810-8e31-44f5-aba6-311f711e8316",
   "metadata": {},
   "outputs": [
    {
     "data": {
      "text/html": [
       "<div>\n",
       "<style scoped>\n",
       "    .dataframe tbody tr th:only-of-type {\n",
       "        vertical-align: middle;\n",
       "    }\n",
       "\n",
       "    .dataframe tbody tr th {\n",
       "        vertical-align: top;\n",
       "    }\n",
       "\n",
       "    .dataframe thead th {\n",
       "        text-align: right;\n",
       "    }\n",
       "</style>\n",
       "<table border=\"1\" class=\"dataframe\">\n",
       "  <thead>\n",
       "    <tr style=\"text-align: right;\">\n",
       "      <th></th>\n",
       "      <th>filename</th>\n",
       "      <th>width</th>\n",
       "      <th>height</th>\n",
       "      <th>class</th>\n",
       "      <th>xmin</th>\n",
       "      <th>ymin</th>\n",
       "      <th>xmax</th>\n",
       "      <th>ymax</th>\n",
       "    </tr>\n",
       "  </thead>\n",
       "  <tbody>\n",
       "    <tr>\n",
       "      <th>0</th>\n",
       "      <td>005247_02_jpg.rf.1fc43c7713f18f084cc62a9d0871a...</td>\n",
       "      <td>640</td>\n",
       "      <td>640</td>\n",
       "      <td>motercycle</td>\n",
       "      <td>25</td>\n",
       "      <td>52</td>\n",
       "      <td>640</td>\n",
       "      <td>640</td>\n",
       "    </tr>\n",
       "    <tr>\n",
       "      <th>1</th>\n",
       "      <td>005247_02_jpg.rf.1fc43c7713f18f084cc62a9d0871a...</td>\n",
       "      <td>640</td>\n",
       "      <td>640</td>\n",
       "      <td>car</td>\n",
       "      <td>556</td>\n",
       "      <td>411</td>\n",
       "      <td>640</td>\n",
       "      <td>561</td>\n",
       "    </tr>\n",
       "    <tr>\n",
       "      <th>2</th>\n",
       "      <td>004835_10_jpg.rf.1dfd07dc6ed2d8938a3b12f1227cc...</td>\n",
       "      <td>640</td>\n",
       "      <td>640</td>\n",
       "      <td>bus</td>\n",
       "      <td>17</td>\n",
       "      <td>0</td>\n",
       "      <td>620</td>\n",
       "      <td>639</td>\n",
       "    </tr>\n",
       "    <tr>\n",
       "      <th>3</th>\n",
       "      <td>004835_10_jpg.rf.1dfd07dc6ed2d8938a3b12f1227cc...</td>\n",
       "      <td>640</td>\n",
       "      <td>640</td>\n",
       "      <td>car</td>\n",
       "      <td>578</td>\n",
       "      <td>268</td>\n",
       "      <td>640</td>\n",
       "      <td>455</td>\n",
       "    </tr>\n",
       "    <tr>\n",
       "      <th>4</th>\n",
       "      <td>004428_09_jpg.rf.201529ab10170c54b6e3142aa4a80...</td>\n",
       "      <td>640</td>\n",
       "      <td>640</td>\n",
       "      <td>motercycle</td>\n",
       "      <td>0</td>\n",
       "      <td>2</td>\n",
       "      <td>640</td>\n",
       "      <td>638</td>\n",
       "    </tr>\n",
       "  </tbody>\n",
       "</table>\n",
       "</div>"
      ],
      "text/plain": [
       "                                            filename  width  height  \\\n",
       "0  005247_02_jpg.rf.1fc43c7713f18f084cc62a9d0871a...    640     640   \n",
       "1  005247_02_jpg.rf.1fc43c7713f18f084cc62a9d0871a...    640     640   \n",
       "2  004835_10_jpg.rf.1dfd07dc6ed2d8938a3b12f1227cc...    640     640   \n",
       "3  004835_10_jpg.rf.1dfd07dc6ed2d8938a3b12f1227cc...    640     640   \n",
       "4  004428_09_jpg.rf.201529ab10170c54b6e3142aa4a80...    640     640   \n",
       "\n",
       "        class  xmin  ymin  xmax  ymax  \n",
       "0  motercycle    25    52   640   640  \n",
       "1         car   556   411   640   561  \n",
       "2         bus    17     0   620   639  \n",
       "3         car   578   268   640   455  \n",
       "4  motercycle     0     2   640   638  "
      ]
     },
     "execution_count": 10,
     "metadata": {},
     "output_type": "execute_result"
    }
   ],
   "source": [
    "#  read annotation csv file of other vechles \n",
    "df_vechles = pd.read_csv('./vechles_dataset./vechle1/_annotations_01.csv')\n",
    "df_vechles.head()"
   ]
  },
  {
   "cell_type": "code",
   "execution_count": 11,
   "id": "71097ec8-4a9e-482a-a9c0-bee9ae7d30d5",
   "metadata": {},
   "outputs": [],
   "source": [
    "# combining or  both data sets\n",
    "frames = [df_ambu,df_vechles]\n",
    "df = pd.concat(frames)"
   ]
  },
  {
   "cell_type": "code",
   "execution_count": 12,
   "id": "ba01465f-a039-4eb0-9f24-10cc96158cda",
   "metadata": {},
   "outputs": [
    {
     "name": "stdout",
     "output_type": "stream",
     "text": [
      "<class 'pandas.core.frame.DataFrame'>\n",
      "Index: 1556 entries, 0 to 1522\n",
      "Data columns (total 8 columns):\n",
      " #   Column    Non-Null Count  Dtype \n",
      "---  ------    --------------  ----- \n",
      " 0   filename  1556 non-null   object\n",
      " 1   width     1556 non-null   object\n",
      " 2   height    1556 non-null   object\n",
      " 3   class     1556 non-null   object\n",
      " 4   xmin      1556 non-null   object\n",
      " 5   ymin      1556 non-null   object\n",
      " 6   xmax      1556 non-null   object\n",
      " 7   ymax      1556 non-null   object\n",
      "dtypes: object(8)\n",
      "memory usage: 109.4+ KB\n"
     ]
    }
   ],
   "source": [
    "df.info()\n"
   ]
  },
  {
   "cell_type": "code",
   "execution_count": 13,
   "id": "362c0a60-070e-4dd8-b693-7d50ab942b94",
   "metadata": {},
   "outputs": [
    {
     "name": "stdout",
     "output_type": "stream",
     "text": [
      "<class 'pandas.core.frame.DataFrame'>\n",
      "Index: 1556 entries, 0 to 1522\n",
      "Data columns (total 8 columns):\n",
      " #   Column    Non-Null Count  Dtype \n",
      "---  ------    --------------  ----- \n",
      " 0   filename  1556 non-null   object\n",
      " 1   width     1556 non-null   int32 \n",
      " 2   height    1556 non-null   int32 \n",
      " 3   class     1556 non-null   object\n",
      " 4   xmin      1556 non-null   int32 \n",
      " 5   ymin      1556 non-null   int32 \n",
      " 6   xmax      1556 non-null   int32 \n",
      " 7   ymax      1556 non-null   int32 \n",
      "dtypes: int32(6), object(2)\n",
      "memory usage: 72.9+ KB\n"
     ]
    }
   ],
   "source": [
    "# type conversion\n",
    "cols = ['width','height','xmin','xmax','ymin','ymax']\n",
    "df[cols] = df[cols].astype(int)\n",
    "df.info()"
   ]
  },
  {
   "cell_type": "markdown",
   "id": "cb8b4e78",
   "metadata": {},
   "source": [
    "#### Conversion\n",
    "![alt text](download.png)"
   ]
  },
  {
   "cell_type": "code",
   "execution_count": 14,
   "id": "2eb347d1-0225-4cd8-bd60-2189cb4707a5",
   "metadata": {},
   "outputs": [],
   "source": [
    "# center x, center y\n",
    "df['center_x'] = ((df['xmax']+df['xmin'])/2)/df['width']\n",
    "df['center_y'] = ((df['ymax']+df['ymin'])/2)/df['height']\n",
    "# w \n",
    "df['w'] = (df['xmax']-df['xmin'])/df['width']\n",
    "# h \n",
    "df['h'] = (df['ymax']-df['ymin'])/df['height']"
   ]
  },
  {
   "cell_type": "code",
   "execution_count": 15,
   "id": "0b593ce7-bd27-4a2a-8b62-6fa6fec23666",
   "metadata": {},
   "outputs": [
    {
     "data": {
      "text/html": [
       "<div>\n",
       "<style scoped>\n",
       "    .dataframe tbody tr th:only-of-type {\n",
       "        vertical-align: middle;\n",
       "    }\n",
       "\n",
       "    .dataframe tbody tr th {\n",
       "        vertical-align: top;\n",
       "    }\n",
       "\n",
       "    .dataframe thead th {\n",
       "        text-align: right;\n",
       "    }\n",
       "</style>\n",
       "<table border=\"1\" class=\"dataframe\">\n",
       "  <thead>\n",
       "    <tr style=\"text-align: right;\">\n",
       "      <th></th>\n",
       "      <th>filename</th>\n",
       "      <th>width</th>\n",
       "      <th>height</th>\n",
       "      <th>class</th>\n",
       "      <th>xmin</th>\n",
       "      <th>ymin</th>\n",
       "      <th>xmax</th>\n",
       "      <th>ymax</th>\n",
       "      <th>center_x</th>\n",
       "      <th>center_y</th>\n",
       "      <th>w</th>\n",
       "      <th>h</th>\n",
       "    </tr>\n",
       "  </thead>\n",
       "  <tbody>\n",
       "    <tr>\n",
       "      <th>0</th>\n",
       "      <td>002397_02.jpg</td>\n",
       "      <td>3226</td>\n",
       "      <td>2534</td>\n",
       "      <td>ambulance</td>\n",
       "      <td>73</td>\n",
       "      <td>83</td>\n",
       "      <td>3184</td>\n",
       "      <td>2375</td>\n",
       "      <td>0.504805</td>\n",
       "      <td>0.485004</td>\n",
       "      <td>0.964352</td>\n",
       "      <td>0.904499</td>\n",
       "    </tr>\n",
       "    <tr>\n",
       "      <th>1</th>\n",
       "      <td>002431_05.jpg</td>\n",
       "      <td>1419</td>\n",
       "      <td>1219</td>\n",
       "      <td>ambulance</td>\n",
       "      <td>19</td>\n",
       "      <td>42</td>\n",
       "      <td>1391</td>\n",
       "      <td>1139</td>\n",
       "      <td>0.496829</td>\n",
       "      <td>0.484413</td>\n",
       "      <td>0.966878</td>\n",
       "      <td>0.899918</td>\n",
       "    </tr>\n",
       "    <tr>\n",
       "      <th>2</th>\n",
       "      <td>002494_04.jpg</td>\n",
       "      <td>1782</td>\n",
       "      <td>1903</td>\n",
       "      <td>ambulance</td>\n",
       "      <td>27</td>\n",
       "      <td>18</td>\n",
       "      <td>1755</td>\n",
       "      <td>1882</td>\n",
       "      <td>0.500000</td>\n",
       "      <td>0.499212</td>\n",
       "      <td>0.969697</td>\n",
       "      <td>0.979506</td>\n",
       "    </tr>\n",
       "    <tr>\n",
       "      <th>3</th>\n",
       "      <td>002547_03.jpg</td>\n",
       "      <td>2230</td>\n",
       "      <td>1336</td>\n",
       "      <td>ambulance</td>\n",
       "      <td>42</td>\n",
       "      <td>11</td>\n",
       "      <td>2179</td>\n",
       "      <td>1314</td>\n",
       "      <td>0.497982</td>\n",
       "      <td>0.495883</td>\n",
       "      <td>0.958296</td>\n",
       "      <td>0.975299</td>\n",
       "    </tr>\n",
       "    <tr>\n",
       "      <th>4</th>\n",
       "      <td>002590_18.jpg</td>\n",
       "      <td>2304</td>\n",
       "      <td>1796</td>\n",
       "      <td>ambulance</td>\n",
       "      <td>38</td>\n",
       "      <td>90</td>\n",
       "      <td>2174</td>\n",
       "      <td>1615</td>\n",
       "      <td>0.480035</td>\n",
       "      <td>0.474666</td>\n",
       "      <td>0.927083</td>\n",
       "      <td>0.849109</td>\n",
       "    </tr>\n",
       "  </tbody>\n",
       "</table>\n",
       "</div>"
      ],
      "text/plain": [
       "        filename  width  height      class  xmin  ymin  xmax  ymax  center_x  \\\n",
       "0  002397_02.jpg   3226    2534  ambulance    73    83  3184  2375  0.504805   \n",
       "1  002431_05.jpg   1419    1219  ambulance    19    42  1391  1139  0.496829   \n",
       "2  002494_04.jpg   1782    1903  ambulance    27    18  1755  1882  0.500000   \n",
       "3  002547_03.jpg   2230    1336  ambulance    42    11  2179  1314  0.497982   \n",
       "4  002590_18.jpg   2304    1796  ambulance    38    90  2174  1615  0.480035   \n",
       "\n",
       "   center_y         w         h  \n",
       "0  0.485004  0.964352  0.904499  \n",
       "1  0.484413  0.966878  0.899918  \n",
       "2  0.499212  0.969697  0.979506  \n",
       "3  0.495883  0.958296  0.975299  \n",
       "4  0.474666  0.927083  0.849109  "
      ]
     },
     "execution_count": 15,
     "metadata": {},
     "output_type": "execute_result"
    }
   ],
   "source": [
    "df.head()"
   ]
  },
  {
   "cell_type": "markdown",
   "id": "cd5c08c6",
   "metadata": {},
   "source": [
    "### split data into train and test"
   ]
  },
  {
   "cell_type": "code",
   "execution_count": 23,
   "id": "2a928a13-f6ee-41c6-b1f0-5a0711138855",
   "metadata": {},
   "outputs": [
    {
     "data": {
      "text/plain": [
       "1364"
      ]
     },
     "execution_count": 23,
     "metadata": {},
     "output_type": "execute_result"
    }
   ],
   "source": [
    "images = df['filename'].unique()\n",
    "len(images)"
   ]
  },
  {
   "cell_type": "code",
   "execution_count": 24,
   "id": "bce576d4-9bcf-4cd7-9907-c831a94e20a8",
   "metadata": {},
   "outputs": [],
   "source": [
    "# 80% train and 20% test\n",
    "img_df = pd.DataFrame(images,columns=['filename'])\n",
    "img_train = tuple(img_df.sample(frac=0.8)['filename'])# shuffle and pick 80% of images"
   ]
  },
  {
   "cell_type": "code",
   "execution_count": 25,
   "id": "d138c966-ca0b-486b-990c-504975b49b32",
   "metadata": {},
   "outputs": [],
   "source": [
    "img_test = tuple(img_df.query(f'filename not in {img_train}')['filename'])# take rest 20% images"
   ]
  },
  {
   "cell_type": "code",
   "execution_count": 26,
   "id": "dea93b14-5f85-452c-a9fa-3b7bd2eeadae",
   "metadata": {},
   "outputs": [
    {
     "data": {
      "text/plain": [
       "(1091, 273)"
      ]
     },
     "execution_count": 26,
     "metadata": {},
     "output_type": "execute_result"
    }
   ],
   "source": [
    "len(img_train), len(img_test)"
   ]
  },
  {
   "cell_type": "code",
   "execution_count": 27,
   "id": "7b95df0d-00d1-4dc3-b074-64b226580ffb",
   "metadata": {},
   "outputs": [],
   "source": [
    "train_df = df.query(f'filename in {img_train}')\n",
    "test_df = df.query(f'filename in {img_test}')"
   ]
  },
  {
   "cell_type": "code",
   "execution_count": 28,
   "id": "7b3ff655-90e1-4e18-a1a3-890cdcd4ddbe",
   "metadata": {},
   "outputs": [
    {
     "data": {
      "text/html": [
       "<div>\n",
       "<style scoped>\n",
       "    .dataframe tbody tr th:only-of-type {\n",
       "        vertical-align: middle;\n",
       "    }\n",
       "\n",
       "    .dataframe tbody tr th {\n",
       "        vertical-align: top;\n",
       "    }\n",
       "\n",
       "    .dataframe thead th {\n",
       "        text-align: right;\n",
       "    }\n",
       "</style>\n",
       "<table border=\"1\" class=\"dataframe\">\n",
       "  <thead>\n",
       "    <tr style=\"text-align: right;\">\n",
       "      <th></th>\n",
       "      <th>filename</th>\n",
       "      <th>width</th>\n",
       "      <th>height</th>\n",
       "      <th>class</th>\n",
       "      <th>xmin</th>\n",
       "      <th>ymin</th>\n",
       "      <th>xmax</th>\n",
       "      <th>ymax</th>\n",
       "      <th>center_x</th>\n",
       "      <th>center_y</th>\n",
       "      <th>w</th>\n",
       "      <th>h</th>\n",
       "    </tr>\n",
       "  </thead>\n",
       "  <tbody>\n",
       "    <tr>\n",
       "      <th>0</th>\n",
       "      <td>002397_02.jpg</td>\n",
       "      <td>3226</td>\n",
       "      <td>2534</td>\n",
       "      <td>ambulance</td>\n",
       "      <td>73</td>\n",
       "      <td>83</td>\n",
       "      <td>3184</td>\n",
       "      <td>2375</td>\n",
       "      <td>0.504805</td>\n",
       "      <td>0.485004</td>\n",
       "      <td>0.964352</td>\n",
       "      <td>0.904499</td>\n",
       "    </tr>\n",
       "    <tr>\n",
       "      <th>1</th>\n",
       "      <td>002431_05.jpg</td>\n",
       "      <td>1419</td>\n",
       "      <td>1219</td>\n",
       "      <td>ambulance</td>\n",
       "      <td>19</td>\n",
       "      <td>42</td>\n",
       "      <td>1391</td>\n",
       "      <td>1139</td>\n",
       "      <td>0.496829</td>\n",
       "      <td>0.484413</td>\n",
       "      <td>0.966878</td>\n",
       "      <td>0.899918</td>\n",
       "    </tr>\n",
       "    <tr>\n",
       "      <th>3</th>\n",
       "      <td>002547_03.jpg</td>\n",
       "      <td>2230</td>\n",
       "      <td>1336</td>\n",
       "      <td>ambulance</td>\n",
       "      <td>42</td>\n",
       "      <td>11</td>\n",
       "      <td>2179</td>\n",
       "      <td>1314</td>\n",
       "      <td>0.497982</td>\n",
       "      <td>0.495883</td>\n",
       "      <td>0.958296</td>\n",
       "      <td>0.975299</td>\n",
       "    </tr>\n",
       "    <tr>\n",
       "      <th>4</th>\n",
       "      <td>002590_18.jpg</td>\n",
       "      <td>2304</td>\n",
       "      <td>1796</td>\n",
       "      <td>ambulance</td>\n",
       "      <td>38</td>\n",
       "      <td>90</td>\n",
       "      <td>2174</td>\n",
       "      <td>1615</td>\n",
       "      <td>0.480035</td>\n",
       "      <td>0.474666</td>\n",
       "      <td>0.927083</td>\n",
       "      <td>0.849109</td>\n",
       "    </tr>\n",
       "    <tr>\n",
       "      <th>5</th>\n",
       "      <td>002624_17.jpg</td>\n",
       "      <td>1383</td>\n",
       "      <td>1188</td>\n",
       "      <td>ambulance</td>\n",
       "      <td>237</td>\n",
       "      <td>33</td>\n",
       "      <td>1350</td>\n",
       "      <td>1156</td>\n",
       "      <td>0.573753</td>\n",
       "      <td>0.500421</td>\n",
       "      <td>0.804772</td>\n",
       "      <td>0.945286</td>\n",
       "    </tr>\n",
       "  </tbody>\n",
       "</table>\n",
       "</div>"
      ],
      "text/plain": [
       "        filename  width  height      class  xmin  ymin  xmax  ymax  center_x  \\\n",
       "0  002397_02.jpg   3226    2534  ambulance    73    83  3184  2375  0.504805   \n",
       "1  002431_05.jpg   1419    1219  ambulance    19    42  1391  1139  0.496829   \n",
       "3  002547_03.jpg   2230    1336  ambulance    42    11  2179  1314  0.497982   \n",
       "4  002590_18.jpg   2304    1796  ambulance    38    90  2174  1615  0.480035   \n",
       "5  002624_17.jpg   1383    1188  ambulance   237    33  1350  1156  0.573753   \n",
       "\n",
       "   center_y         w         h  \n",
       "0  0.485004  0.964352  0.904499  \n",
       "1  0.484413  0.966878  0.899918  \n",
       "3  0.495883  0.958296  0.975299  \n",
       "4  0.474666  0.927083  0.849109  \n",
       "5  0.500421  0.804772  0.945286  "
      ]
     },
     "execution_count": 28,
     "metadata": {},
     "output_type": "execute_result"
    }
   ],
   "source": [
    "train_df.head()"
   ]
  },
  {
   "cell_type": "code",
   "execution_count": 29,
   "id": "3c2eb16d-d015-4526-b31b-c5b500118f93",
   "metadata": {},
   "outputs": [
    {
     "data": {
      "text/html": [
       "<div>\n",
       "<style scoped>\n",
       "    .dataframe tbody tr th:only-of-type {\n",
       "        vertical-align: middle;\n",
       "    }\n",
       "\n",
       "    .dataframe tbody tr th {\n",
       "        vertical-align: top;\n",
       "    }\n",
       "\n",
       "    .dataframe thead th {\n",
       "        text-align: right;\n",
       "    }\n",
       "</style>\n",
       "<table border=\"1\" class=\"dataframe\">\n",
       "  <thead>\n",
       "    <tr style=\"text-align: right;\">\n",
       "      <th></th>\n",
       "      <th>filename</th>\n",
       "      <th>width</th>\n",
       "      <th>height</th>\n",
       "      <th>class</th>\n",
       "      <th>xmin</th>\n",
       "      <th>ymin</th>\n",
       "      <th>xmax</th>\n",
       "      <th>ymax</th>\n",
       "      <th>center_x</th>\n",
       "      <th>center_y</th>\n",
       "      <th>w</th>\n",
       "      <th>h</th>\n",
       "    </tr>\n",
       "  </thead>\n",
       "  <tbody>\n",
       "    <tr>\n",
       "      <th>2</th>\n",
       "      <td>002494_04.jpg</td>\n",
       "      <td>1782</td>\n",
       "      <td>1903</td>\n",
       "      <td>ambulance</td>\n",
       "      <td>27</td>\n",
       "      <td>18</td>\n",
       "      <td>1755</td>\n",
       "      <td>1882</td>\n",
       "      <td>0.500000</td>\n",
       "      <td>0.499212</td>\n",
       "      <td>0.969697</td>\n",
       "      <td>0.979506</td>\n",
       "    </tr>\n",
       "    <tr>\n",
       "      <th>7</th>\n",
       "      <td>002717_00.jpg</td>\n",
       "      <td>2806</td>\n",
       "      <td>2919</td>\n",
       "      <td>ambulance</td>\n",
       "      <td>36</td>\n",
       "      <td>46</td>\n",
       "      <td>2779</td>\n",
       "      <td>2852</td>\n",
       "      <td>0.501604</td>\n",
       "      <td>0.496403</td>\n",
       "      <td>0.977548</td>\n",
       "      <td>0.961288</td>\n",
       "    </tr>\n",
       "    <tr>\n",
       "      <th>8</th>\n",
       "      <td>002964_18.jpg</td>\n",
       "      <td>1789</td>\n",
       "      <td>1042</td>\n",
       "      <td>ambulance</td>\n",
       "      <td>14</td>\n",
       "      <td>19</td>\n",
       "      <td>1695</td>\n",
       "      <td>1042</td>\n",
       "      <td>0.477641</td>\n",
       "      <td>0.509117</td>\n",
       "      <td>0.939631</td>\n",
       "      <td>0.981766</td>\n",
       "    </tr>\n",
       "    <tr>\n",
       "      <th>12</th>\n",
       "      <td>003507_17.jpg</td>\n",
       "      <td>2395</td>\n",
       "      <td>1139</td>\n",
       "      <td>ambulance</td>\n",
       "      <td>69</td>\n",
       "      <td>12</td>\n",
       "      <td>2388</td>\n",
       "      <td>1128</td>\n",
       "      <td>0.512944</td>\n",
       "      <td>0.500439</td>\n",
       "      <td>0.968267</td>\n",
       "      <td>0.979807</td>\n",
       "    </tr>\n",
       "    <tr>\n",
       "      <th>14</th>\n",
       "      <td>003574_02.jpg</td>\n",
       "      <td>2061</td>\n",
       "      <td>1873</td>\n",
       "      <td>ambulance</td>\n",
       "      <td>41</td>\n",
       "      <td>54</td>\n",
       "      <td>1961</td>\n",
       "      <td>1860</td>\n",
       "      <td>0.485687</td>\n",
       "      <td>0.510945</td>\n",
       "      <td>0.931587</td>\n",
       "      <td>0.964229</td>\n",
       "    </tr>\n",
       "  </tbody>\n",
       "</table>\n",
       "</div>"
      ],
      "text/plain": [
       "         filename  width  height      class  xmin  ymin  xmax  ymax  center_x  \\\n",
       "2   002494_04.jpg   1782    1903  ambulance    27    18  1755  1882  0.500000   \n",
       "7   002717_00.jpg   2806    2919  ambulance    36    46  2779  2852  0.501604   \n",
       "8   002964_18.jpg   1789    1042  ambulance    14    19  1695  1042  0.477641   \n",
       "12  003507_17.jpg   2395    1139  ambulance    69    12  2388  1128  0.512944   \n",
       "14  003574_02.jpg   2061    1873  ambulance    41    54  1961  1860  0.485687   \n",
       "\n",
       "    center_y         w         h  \n",
       "2   0.499212  0.969697  0.979506  \n",
       "7   0.496403  0.977548  0.961288  \n",
       "8   0.509117  0.939631  0.981766  \n",
       "12  0.500439  0.968267  0.979807  \n",
       "14  0.510945  0.931587  0.964229  "
      ]
     },
     "execution_count": 29,
     "metadata": {},
     "output_type": "execute_result"
    }
   ],
   "source": [
    "test_df.head()"
   ]
  },
  {
   "cell_type": "markdown",
   "id": "c836eb08",
   "metadata": {},
   "source": [
    "### Assign id number to object names"
   ]
  },
  {
   "cell_type": "code",
   "execution_count": 32,
   "id": "c95dcdd7-9a7e-41fc-bf8b-47b8624ab68d",
   "metadata": {},
   "outputs": [],
   "source": [
    "def label_encoding(x):\n",
    "    labels = {'car':0,'motercycle':1,'bus':2,'ambulance':3}\n",
    "    return labels[x]"
   ]
  },
  {
   "cell_type": "code",
   "execution_count": 35,
   "id": "f5a58117-777b-448c-bc11-7761741a5f42",
   "metadata": {},
   "outputs": [],
   "source": [
    "train_df['id'] = train_df['class'].apply(label_encoding)\n",
    "test_df['id'] = test_df['class'].apply(label_encoding)"
   ]
  },
  {
   "cell_type": "markdown",
   "id": "23feea5e",
   "metadata": {},
   "source": [
    "### Save Image and Labels in text"
   ]
  },
  {
   "cell_type": "code",
   "execution_count": 38,
   "id": "8909b64d-a8e0-421c-8a6d-0d86ec83a37e",
   "metadata": {},
   "outputs": [],
   "source": [
    "import os\n",
    "from shutil import move"
   ]
  },
  {
   "cell_type": "code",
   "execution_count": 48,
   "id": "d9489d03-740d-4736-878b-07546b972275",
   "metadata": {},
   "outputs": [],
   "source": [
    "train_folder = 'vechles_dataset/train'\n",
    "test_folder =  'vechles_dataset/test'\n"
   ]
  },
  {
   "cell_type": "code",
   "execution_count": 40,
   "id": "81e2223b-1392-4e23-9bf5-3b9f883cb955",
   "metadata": {},
   "outputs": [],
   "source": [
    "cols = ['filename','id','center_x','center_y', 'w', 'h']\n",
    "groupby_obj_train = train_df[cols].groupby('filename')\n",
    "groupby_obj_test = test_df[cols].groupby('filename')"
   ]
  },
  {
   "cell_type": "code",
   "execution_count": 41,
   "id": "314eb06d-c40b-40a9-b203-bffdc836a6e4",
   "metadata": {},
   "outputs": [],
   "source": [
    "#groupby_obj_train.get_group('000009.jpg').set_index('filename').to_csv('sample.txt',index=False,header=False)\n",
    "# save each image in train/test folder and repective labels in .txt\n",
    "def save_data(filename, folder_path, group_obj):\n",
    "    # move image\n",
    "    src = os.path.join('vechles_dataset',filename)\n",
    "    dst = os.path.join(folder_path,filename)\n",
    "    move(src,dst) # move image to the destination folder\n",
    "    \n",
    "    # save the labels\n",
    "    text_filename = os.path.join(folder_path,\n",
    "                                 os.path.splitext(filename)[0]+'.txt')\n",
    "    group_obj.get_group(filename).set_index('filename').to_csv(text_filename,sep=' ',index=False,header=False)"
   ]
  },
  {
   "cell_type": "code",
   "execution_count": 42,
   "id": "a97c4d8f-7eb9-4df3-98fb-71adbd658974",
   "metadata": {},
   "outputs": [],
   "source": [
    "filename_series = pd.Series(groupby_obj_train.groups.keys())"
   ]
  },
  {
   "cell_type": "code",
   "execution_count": 43,
   "id": "ae93953d-b994-411f-8492-0c25e5dfef18",
   "metadata": {},
   "outputs": [
    {
     "data": {
      "text/plain": [
       "0       None\n",
       "1       None\n",
       "2       None\n",
       "3       None\n",
       "4       None\n",
       "        ... \n",
       "1086    None\n",
       "1087    None\n",
       "1088    None\n",
       "1089    None\n",
       "1090    None\n",
       "Length: 1091, dtype: object"
      ]
     },
     "execution_count": 43,
     "metadata": {},
     "output_type": "execute_result"
    }
   ],
   "source": [
    "filename_series.apply(save_data,args=(train_folder,groupby_obj_train))"
   ]
  },
  {
   "cell_type": "code",
   "execution_count": 45,
   "id": "94ce7ece-a1fa-44bd-86c9-c8a5e19c3213",
   "metadata": {},
   "outputs": [],
   "source": [
    "filename_series_test = pd.Series(groupby_obj_test.groups.keys())"
   ]
  },
  {
   "cell_type": "code",
   "execution_count": 49,
   "id": "f95490ea-3b1c-4830-89ff-5fd5b07605f6",
   "metadata": {},
   "outputs": [
    {
     "data": {
      "text/plain": [
       "0      None\n",
       "1      None\n",
       "2      None\n",
       "3      None\n",
       "4      None\n",
       "       ... \n",
       "268    None\n",
       "269    None\n",
       "270    None\n",
       "271    None\n",
       "272    None\n",
       "Length: 273, dtype: object"
      ]
     },
     "execution_count": 49,
     "metadata": {},
     "output_type": "execute_result"
    }
   ],
   "source": [
    "filename_series_test.apply(save_data,args=(test_folder,groupby_obj_test))"
   ]
  },
  {
   "cell_type": "code",
   "execution_count": null,
   "id": "c103fde1-0683-4a45-8a67-0615afb6d76e",
   "metadata": {},
   "outputs": [],
   "source": []
  }
 ],
 "metadata": {
  "kernelspec": {
   "display_name": "Python 3 (ipykernel)",
   "language": "python",
   "name": "python3"
  },
  "language_info": {
   "codemirror_mode": {
    "name": "ipython",
    "version": 3
   },
   "file_extension": ".py",
   "mimetype": "text/x-python",
   "name": "python",
   "nbconvert_exporter": "python",
   "pygments_lexer": "ipython3",
   "version": "3.11.9"
  }
 },
 "nbformat": 4,
 "nbformat_minor": 5
}
